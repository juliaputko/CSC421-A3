{
 "cells": [
  {
   "cell_type": "markdown",
   "metadata": {},
   "source": [
    "# CSC421 Fall 2021 Assignment 3 \n",
    "### Author: George Tzanetakis \n",
    "\n",
    "This notebook is based on the topics covered in **Chapter 12 - Quantifying Uncertainty **, **Chapter 13 Probabilistic Reasoning** from the book *Artificial Intelligence: A Modern Approach.*  You are welcome and actually it can be educational to look at the code at the aima-code repository as well as other code resources you can find on the web. However, make sure you understand any code that you incoporate. \n",
    "\n",
    "The assignment structure is as follows - each item is worth 1 point: \n",
    "\n",
    "1. Snakes and ladder simulation (Basic) - basic rolling and movement simulation, no ladders/snakes \n",
    "2. Snakes and ladder simulation (Basic) - multiple simulations and recording of number of rolls \n",
    "3. Snakes and ladder simulation (Expected) - adding of user-specified ladders/snakes \n",
    "4. Snakes and ladder simulation (Expected) - simulation to determine probability distribution of number of rolls \n",
    "5. Snakes and ladder simulation (Advanced) - exact inference + simulation with different ending rules \n",
    "6. Naive Bayes text classsification (Basic) - conditional probabilities for dictionary words \n",
    "7. Naive Bayes text classification (Basic) - markdown equations for Bernoulli \n",
    "8. Naive Bayes text classification (Expected) - prediction of movie review polarity \n",
    "9. Naive Bayes text classification (Expected) - classification accuracy and confusion matrix \n",
    "10. Naive Bayes text classification (Advanced) - probabilitistic generation of movie reviews \n",
    "\n",
    "The grading will be done in 0.5 increments. 1 point for correct answer, 0.5 points for partial or incorrect \n",
    "but reasonable answer and 0.0 for no answer or completely wrong answer. \n"
   ]
  },
  {
   "cell_type": "markdown",
   "metadata": {},
   "source": [
    "# Introduction \n",
    "\n",
    "This question uses the board game of snakes and ladders to explore the concepts behind probability, \n",
    "stochastic simulation as well as exact and approximate inference. I assume that most of you are familiar \n",
    "with snakes and ladders. If you need a refresher check the following link: \n",
    "\n",
    "https://www.ymimports.com/pages/how-to-play-snakes-and-ladders\n",
    "\n",
    "\n"
   ]
  },
  {
   "cell_type": "markdown",
   "metadata": {},
   "source": [
    "# Question 1 (Basic)  - 1 point\n",
    "\n",
    "Your first task will be to write a simple movement simulator on a snakes and ladders board. \n",
    "For this question you can ignore the snakes and ladders and just simply assume you only \n",
    "have to deal with moving. You will need to simulate rolling the die - this can be done \n",
    "by using the Python *random* module and the *randint* method. Your function *play_game* \n",
    "will take as input the length of the board (an integer), \"play\" the game by rolling the die \n",
    "multiple times until the sum of rolls is larger or equal to the length of the board.  (note: \n",
    "this is one of the possible and simplest end rules). The function should return the total \n",
    "number of rolls required to finish the the particular game that was played. Obviously \n",
    "this number will vary as it depends on the specific random rolls performed during the movement \n",
    "simulation. \n",
    "\n",
    "\n",
    "\n",
    "\n"
   ]
  },
  {
   "cell_type": "code",
   "execution_count": 36,
   "metadata": {},
   "outputs": [
    {
     "name": "stdout",
     "output_type": "stream",
     "text": [
      "31\n"
     ]
    }
   ],
   "source": [
    "# YOUR CODE GOES HERE \n",
    "import random \n",
    "    \n",
    "# function returns the total number of rolls required to finish the particular game that was played \n",
    "# this number will vary depending on the specific random rolls performed during the movement simulation \n",
    "\n",
    "def play_game(board_len):\n",
    "    moves = 0\n",
    "    pos = 0\n",
    "    while (pos < board_len):  #less than boadd len \n",
    "        moves += 1     #count moves \n",
    "        die_roll = random.randint(1,6)   #roll die \n",
    "    \n",
    "        pos = pos + die_roll\n",
    "        if (pos > board_len): #done   #play game by rolling the die multiple times until the sum of the rolls is larger or equal to the length of the board \n",
    "            break \n",
    "    \n",
    "    return moves\n",
    "    \n",
    "print(play_game(100))\n"
   ]
  },
  {
   "cell_type": "markdown",
   "metadata": {},
   "source": [
    "# Question 2 (Basic) - 1 point\n",
    "\n",
    "Your next task is to collect information about the probability distribution of number of rolls using the *play_game* function you implemented in the previous subquestion. Simulate playing the game 1000 times with a board length of 100 and record the number of rolls for each simulation. Show the histogram of the number of rolls for this simulation. You don't need to plot the histogram but can simply show the counts for each number of rolls as text. You can also create a plot using either the *matplotlib* or *bokeh* plotting frameworks. Make sure you include appropriate pip install and import statements in your notebook and check that it works in the Jupyterhub of the course. \n",
    "\n"
   ]
  },
  {
   "cell_type": "code",
   "execution_count": 41,
   "metadata": {},
   "outputs": [
    {
     "name": "stdout",
     "output_type": "stream",
     "text": [
      "Collecting matplotlib\n",
      "  Using cached matplotlib-3.4.3-cp39-cp39-manylinux1_x86_64.whl (10.3 MB)\n",
      "Requirement already satisfied: python-dateutil>=2.7 in /opt/conda/lib/python3.9/site-packages (from matplotlib) (2.8.1)\n",
      "Collecting numpy>=1.16\n",
      "  Downloading numpy-1.21.4-cp39-cp39-manylinux_2_12_x86_64.manylinux2010_x86_64.whl (15.7 MB)\n",
      "\u001b[K     |████████████████████████████████| 15.7 MB 56.2 MB/s eta 0:00:01██▎                    | 5.5 MB 4.6 MB/s eta 0:00:03\n",
      "\u001b[?25hRequirement already satisfied: pyparsing>=2.2.1 in /opt/conda/lib/python3.9/site-packages (from matplotlib) (2.4.7)\n",
      "Collecting kiwisolver>=1.0.1\n",
      "  Using cached kiwisolver-1.3.2-cp39-cp39-manylinux_2_12_x86_64.manylinux2010_x86_64.whl (1.6 MB)\n",
      "Collecting pillow>=6.2.0\n",
      "  Downloading Pillow-8.4.0-cp39-cp39-manylinux_2_17_x86_64.manylinux2014_x86_64.whl (3.1 MB)\n",
      "\u001b[K     |████████████████████████████████| 3.1 MB 30.4 MB/s eta 0:00:01\n",
      "\u001b[?25hCollecting cycler>=0.10\n",
      "  Downloading cycler-0.11.0-py3-none-any.whl (6.4 kB)\n",
      "Requirement already satisfied: six>=1.5 in /opt/conda/lib/python3.9/site-packages (from python-dateutil>=2.7->matplotlib) (1.16.0)\n",
      "Installing collected packages: pillow, numpy, kiwisolver, cycler, matplotlib\n",
      "Successfully installed cycler-0.11.0 kiwisolver-1.3.2 matplotlib-3.4.3 numpy-1.21.4 pillow-8.4.0\n",
      "ERROR: unknown command \"intall\" - maybe you meant \"install\"\n"
     ]
    }
   ],
   "source": [
    "!pip install matplotlib\n",
    "!pip intall numpy\n"
   ]
  },
  {
   "cell_type": "code",
   "execution_count": 52,
   "metadata": {
    "scrolled": true
   },
   "outputs": [
    {
     "data": {
      "image/png": "[encoded data removed]",
      "text/plain": [
       "<Figure size 432x288 with 1 Axes>"
      ]
     },
     "metadata": {
      "needs_background": "light"
     },
     "output_type": "display_data"
    }
   ],
   "source": [
    "# YOUR CODE GOES HERE \n",
    "import random \n",
    "import numpy as np\n",
    "from matplotlib import pyplot as plt\n",
    "\n",
    "   \n",
    "def play_game(board_len):\n",
    "    moves = 0  #the number of times you roll\n",
    "    pos = 0\n",
    "    while (pos < board_len):  #less than boadd len \n",
    "        moves += 1     #count moves \n",
    "        die_roll = random.randint(1,6)   #roll die \n",
    "    \n",
    "        pos = pos + die_roll\n",
    "        if (pos > board_len): #done   #play game by rolling the die multiple times until the sum of the rolls is larger or equal to the length of the board \n",
    "            break \n",
    "    \n",
    "    return moves\n",
    "\n",
    "simulation = []\n",
    "simulation = [play_game(100) for i in range(1000)]\n",
    "\n",
    "#print(simulation)\n",
    "#print(len(simulation))\n",
    "\n",
    "#collect information about the probability distrubution of number of rolls \n",
    "\n",
    "#record the number of rolls for each simulation\n",
    "#\n",
    "\n",
    "#bins = np.arange(20, 40, 1) # fixed bin size\n",
    "#plt.hist(simulation, bins=bins, alpha=1)\n",
    "plt.hist(simulation)\n",
    "plt.title('probability distrubution of number of rolls')\n",
    "plt.xlabel('number of rolls')\n",
    "plt.ylabel('number of simulations')\n",
    "plt.show()\n",
    "\n",
    "#probability distribution of the number of rolls using the play_game function\n",
    "\n",
    "#simulate playing 1000 games\n",
    "#board length 100 \n",
    "#record the number of rolls for each simulation"
   ]
  },
  {
   "cell_type": "markdown",
   "metadata": {},
   "source": [
    "# Question 3 (Expected) 1 point \n",
    "\n",
    "Extent your *play_game* method to take as input a specification of snake and ladder positions and then perform the appropriate movement simulation. Just as before playing the game returns the number of rolls required to finish the game using the same simple end rule as the previous subquestions. \n",
    "\n",
    "<img src=\"snakes_ladders.png\" width=\"50%\"/>\n",
    "\n",
    "The snake and ladders positions will be encoded as a list of tuples. If the first number of the tuple is smaller than the second one it is ladder otherwise it is a snake. For example two of the snakes and one of the ladders\n",
    "in the board above would be represented as: "
   ]
  },
  {
   "cell_type": "code",
   "execution_count": 50,
   "metadata": {},
   "outputs": [
    {
     "name": "stdout",
     "output_type": "stream",
     "text": [
      "[(34, 6), (32, 10), (1, 38)]\n"
     ]
    }
   ],
   "source": [
    "snakeA = (34,6)\n",
    "snakeB = (32,10)\n",
    "ladderC = (1,38)\n",
    "snake_ladder_list = [snakeA,snakeB,ladderC]\n",
    "print(snake_ladder_list)\n"
   ]
  },
  {
   "cell_type": "markdown",
   "metadata": {},
   "source": [
    "Your play game function should take as input the snake and ladder specification. For testing and experiments use the board provided in the image above. "
   ]
  },
  {
   "cell_type": "code",
   "execution_count": 113,
   "metadata": {
    "scrolled": true
   },
   "outputs": [
    {
     "name": "stdout",
     "output_type": "stream",
     "text": [
      "11\n"
     ]
    }
   ],
   "source": [
    "# YOUR CODE GOES HERE \n",
    "\n",
    "#Extent your play_game method to take as input a specification of snake and ladder \n",
    "#positions and then perform the appropriate movement simulation. \n",
    "#Just as before playing the game returns the number of rolls required to finish the game \n",
    "#using the same simple end rule as the previous subquestions.\n",
    "#The snake and ladders positions will be encoded as a \n",
    "#list of tuples. If the first number of the tuple is smaller than the \n",
    "#second one it is ladder otherwise it is a snake. \n",
    "\n",
    "def play_game(board_len,snakes_ladders):\n",
    "    moves = 0  #the number of times you roll\n",
    "    pos = 0\n",
    "    num = 0\n",
    "\n",
    "             \n",
    "    #position(in snakeladder)-->pos(,beside)\n",
    "      \n",
    "    while (pos < board_len):  #less than boadd len \n",
    "        moves += 1     #count moves \n",
    "        die_roll = random.randint(1,6)   #roll die \n",
    "    \n",
    "        pos = pos + die_roll\n",
    "              \n",
    "        for item in snakes_ladders:\n",
    "            if item[0] == pos:\n",
    "               # print(\"pos\",pos)\n",
    "                pos = item[1]\n",
    "               # print(pos)\n",
    "        \n",
    "        if (pos > board_len): \n",
    "            break \n",
    "            \n",
    "      \n",
    "    \n",
    "    return moves\n",
    "\n",
    "\n",
    "LadderA = (1,38)\n",
    "LadderB = (4,14)\n",
    "LadderC = (8,10) \n",
    "LadderD = (21,42) \n",
    "LadderE = (28,76)\n",
    "LadderF = (50,67)\n",
    "LadderG = (71,92)\n",
    "LadderH = (80,99) \n",
    "SnakeI = (32,10)\n",
    "SnakeJ = (36,6)\n",
    "SnakeK = (48,26)\n",
    "SnakeL = (62,18)\n",
    "SnakeM = (88,24)\n",
    "SnakeN = (95,56)\n",
    "SnakeO = (97,78)\n",
    "\n",
    "snakes_ladders = [LadderA,LadderB,LadderC,LadderD,LadderE,LadderF,LadderG,LadderH,SnakeI,SnakeJ,SnakeK,SnakeL,SnakeM,SnakeN,SnakeO]\n",
    "\n",
    "#print(snakes_ladders)\n",
    "#items = ([item for item in snakes_ladders if item[0] == 1])\n",
    "#print(items)\n",
    "\n",
    "#print(num[0])\n",
    " \n",
    "    \n",
    "print(play_game(100,snakes_ladders))\n",
    "   \n",
    "   #look thru list\n"
   ]
  },
  {
   "cell_type": "markdown",
   "metadata": {},
   "source": [
    "# QUESTION 4 (EXPECTED) - 1 point"
   ]
  },
  {
   "cell_type": "markdown",
   "metadata": {},
   "source": [
    "Use the full game simulation that incoprorates the snakes and ladders, simulate 1000 games and record \n",
    "probability distribution of the number of rolls as a histogram similarly to the previous subquestion. \n",
    "Modify your code to support the following additional ending variations: \n",
    "\n",
    "* Exact landing: the piece needs to end exactly at the last square. If the roll exceeds the square then it is discarded but counted for the number of rolls \n",
    "* Bounce back variation:  If the roll is too high, the player's piece will bounce off the last space and move back. For example, if a player had four spaces to get to 100 and rolled a 6, the piece will move four spaces to 100, then “bounce back\" two spaces to 98.\n",
    "\n",
    "\n",
    "Show the histogram of the number of rolls for each ending variation. "
   ]
  },
  {
   "cell_type": "code",
   "execution_count": 122,
   "metadata": {},
   "outputs": [
    {
     "data": {
      "image/png": "[encoded data removed]",
      "text/plain": [
       "<Figure size 432x288 with 1 Axes>"
      ]
     },
     "metadata": {
      "needs_background": "light"
     },
     "output_type": "display_data"
    },
    {
     "data": {
      "image/png": "[encoded data removed]",
      "text/plain": [
       "<Figure size 432x288 with 1 Axes>"
      ]
     },
     "metadata": {
      "needs_background": "light"
     },
     "output_type": "display_data"
    }
   ],
   "source": [
    "# YOUR CODE GOES HERE\n",
    "\n",
    "#simulate 1000 games and record probability distrbution of the number of rolls as hsitogram \n",
    "\n",
    "#2 ending variations\n",
    "\n",
    "#exact landing: the piece needs to end exactly at the last square\n",
    "#if the roll exceeds the square then it is discarded by counted for the number of rolls \n",
    "def play_game_exact_landing(board_len,snakes_ladders):\n",
    "    moves = 0  #the number of times you roll\n",
    "    pos = 0\n",
    "    num = 0\n",
    "      \n",
    "    while (pos < board_len):  #less than boadd len \n",
    "        moves += 1     #count moves \n",
    "        die_roll = random.randint(1,6)   #roll die \n",
    "        pos = pos + die_roll\n",
    "        \n",
    "        for item in snakes_ladders:\n",
    "            if item[0] == pos:\n",
    "               # print(\"pos\",pos)\n",
    "                pos = item[1]\n",
    "               # print(pos)\n",
    "        \n",
    "        if (pos == board_len):  #must be == to board_len otherwise ... \n",
    "            break  \n",
    "        #if (pos > board_len):  #if  If the roll exceeds the square then it is discarded but counted for the number of rolls\n",
    "\n",
    "    return moves\n",
    "\n",
    "#bounce back variabation: if the roll is too high the player's piece will bounce off the last space and move back \n",
    "#eg. if a player had four spaces to get to 100 and rolled a 6, the pieve will move four spaces to 100, then bounce back two spaces to 98\n",
    "def play_game_bounce_back(board_len,snakes_ladders):\n",
    "    moves = 0  #the number of times you roll\n",
    "    pos = 0\n",
    "    num = 0\n",
    "      \n",
    "    while (pos < board_len):  #less than boadd len \n",
    "        moves += 1     #count moves \n",
    "        die_roll = random.randint(1,6)   #roll die \n",
    "        pos = pos + die_roll\n",
    "       \n",
    "        for item in snakes_ladders:\n",
    "            if item[0] == pos:\n",
    "               # print(\"pos\",pos)\n",
    "                pos = item[1]\n",
    "               # print(pos)\n",
    "        \n",
    "        if (pos == board_len):  #if roll is too high \n",
    "            break    \n",
    "        if (pos > board_len):  #if roll is too high \n",
    "            #board len = 100\n",
    "            #pos = 96 \n",
    "           # die_roll = 6\n",
    "            #board_len- pos = 4\n",
    "                          #6           #100   -  96 = 4   (6-4) =2    \n",
    "            bounce_back = die_roll - (board_len - pos)\n",
    "            #98  = 100.  - 2 \n",
    "            pos = board_len - bounce_back\n",
    "        \n",
    "    return moves\n",
    "\n",
    "\n",
    "LadderA = (1,38)\n",
    "LadderB = (4,14)\n",
    "LadderC = (8,10) \n",
    "LadderD = (21,42) \n",
    "LadderE = (28,76)\n",
    "LadderF = (50,67)\n",
    "LadderG = (71,92)\n",
    "LadderH = (80,99) \n",
    "SnakeI = (32,10)\n",
    "SnakeJ = (36,6)\n",
    "SnakeK = (48,26)\n",
    "SnakeL = (62,18)\n",
    "SnakeM = (88,24)\n",
    "SnakeN = (95,56)\n",
    "SnakeO = (97,78)\n",
    "\n",
    "snakes_ladders = [LadderA,LadderB,LadderC,LadderD,LadderE,LadderF,LadderG,LadderH,SnakeI,SnakeJ,SnakeK,SnakeL,SnakeM,SnakeN,SnakeO]\n",
    "\n",
    "#show histogram for exact landing ending variation \n",
    "simulationSL_exact = []\n",
    "simulationSL_exact = [play_game(100,snakes_ladders) for i in range(1000)]\n",
    "\n",
    "#plt.hist(simulationSL_exact)\n",
    "n, bins, patches = plt.hist(simulationSL_exact, weights=np.ones_like(simulationSL_exact) / len(simulationSL_exact),\n",
    "                            alpha=0.75)\n",
    "plt.title('exact landing ')\n",
    "plt.xlabel('number of rolls')\n",
    "plt.ylabel('probability distrubution of number of rolls')\n",
    "plt.show()\n",
    "\n",
    "#show histogram for bounce back ending variation\n",
    "simulationSL_bounce = []\n",
    "simulationSL_bounce = [play_game(100,snakes_ladders) for i in range(1000)]\n",
    "\n",
    "#plt.hist(simulationSL_bounce)\n",
    "n, bins, patches = plt.hist(simulationSL_bounce, weights=np.ones_like(simulationSL_bounce) / len(simulationSL_bounce),\n",
    "                            alpha=0.75)\n",
    "plt.title('bounce back')\n",
    "plt.xlabel('number of rolls')\n",
    "plt.ylabel('probability distrubution of number of rolls')\n",
    "plt.show()\n",
    "\n"
   ]
  },
  {
   "cell_type": "markdown",
   "metadata": {},
   "source": [
    "# QUESTION 5 (ADVANCED) - 1 point \n",
    "\n",
    "In this question the goal is to perform exact probabilistic inference for the number of rolls. Rather than simulating the game and recording the number of moves you will need to compute systematically the probabilities of every possible sequence of rolls. You should use the simplified version of board movement with no snakes and ladders and the simple landing rule. As an example let's consider a very short board of 4 squares. The only sequence of 1 roll that finishes the game is rolling a 4 which has $P(4) = 1/6$. For two rolls we have more possibilities such as 1,3 or 3,1 or 2,2 or 2,3 or 3,2 etc. For example the probability of (1,3) is $P(1,3) = 1/6 * 1/6$. Your code should systematically calculate the right products and sums to come up with probabilities for \n",
    "each possible number of rolls. To make this a bit simpler consider a board of length $25$. I advise that you first start by looking at very short boards and checking some of the calculations by hand. \n",
    "\n",
    "Compare the results you get from exact inference with the results you get from approximate inference for the same board length. "
   ]
  },
  {
   "cell_type": "code",
   "execution_count": 10,
   "metadata": {},
   "outputs": [],
   "source": [
    "# YOUR CODE GOES HERE \n",
    "\n",
    "\n",
    "\n"
   ]
  },
  {
   "cell_type": "markdown",
   "metadata": {},
   "source": [
    "# Extra ideas (no credit) \n",
    "\n",
    "* Implement a GUI for showing the snakes/ladders board and support multiple players \n"
   ]
  },
  {
   "cell_type": "markdown",
   "metadata": {},
   "source": [
    "# Text Categorization\n",
    "\n",
    "\n",
    "Text categorization is the task of assigning a given document to one of a fixed set of categories, on the basis of text it contains. Naive Bayes models are often used for this task. In these models, the query variable is\n",
    "the document category, and the effect variables are the presence/absence\n",
    "of each word in the language; the assumption is that words occur independently in documents within a given category (condititional independence), with frequencies determined by document category. Download the following file: http://www.cs.cornell.edu/People/pabo/movie-review-data/review_polarity.tar.gz containing a dataset that has been used for text mining consisting of movie reviews classified into negative and positive. You\n",
    "will see that there are two folders for the positivie and negative category and they each contain multiple text files with the reviews. You can find more information about the dataset at: \n",
    "http://www.cs.cornell.edu/People/pabo/movie-review-data/\n",
    "\n",
    "\n",
    "Our goal will be to build a simple Naive Bayes classifier for this dataset. More complicated approaches using term frequency and inverse document frequency weighting and many more words are possible but the basic concepts\n",
    "are the same. The goal is to understand the whole process so DO NOT use existing machine learning packages but rather build the classifier from scratch.\n",
    "\n",
    "Our feature vector representation for each text file will be simply a binary vector that shows which of the following words are present in the text file: Awful Bad Boring Dull Effective Enjoyable Great Hilarious. For example the text file cv996 11592.txt would be represented as (0, 0, 0, 0, 1, 0, 1, 0) because it contains Effective and Great but none of the other words."
   ]
  },
  {
   "cell_type": "markdown",
   "metadata": {},
   "source": [
    "# Question 6 (Basic) -1 point\n",
    "\n",
    "Write code that parses the text files and calculates the probabilities for each dictionary word given the review polarity\n"
   ]
  },
  {
   "cell_type": "code",
   "execution_count": 2,
   "metadata": {},
   "outputs": [
    {
     "name": "stdout",
     "output_type": "stream",
     "text": [
      "Collecting tabulate\n",
      "  Using cached tabulate-0.8.9-py3-none-any.whl (25 kB)\n",
      "Installing collected packages: tabulate\n",
      "Successfully installed tabulate-0.8.9\n",
      "\u001b[31mERROR: Could not find a version that satisfies the requirement os (from versions: none)\u001b[0m\n",
      "\u001b[31mERROR: No matching distribution found for os\u001b[0m\n",
      "Collecting numpy\n",
      "  Using cached numpy-1.21.4-cp39-cp39-manylinux_2_12_x86_64.manylinux2010_x86_64.whl (15.7 MB)\n",
      "Installing collected packages: numpy\n",
      "Successfully installed numpy-1.21.4\n",
      "\u001b[31mERROR: Could not find a version that satisfies the requirement random (from versions: none)\u001b[0m\n",
      "\u001b[31mERROR: No matching distribution found for random\u001b[0m\n"
     ]
    }
   ],
   "source": [
    "#! pip install tabulate\n",
    "! pip install os\n",
    "#! pip install numpy \n",
    "#! pip install random"
   ]
  },
  {
   "cell_type": "code",
   "execution_count": 110,
   "metadata": {},
   "outputs": [
    {
     "name": "stdout",
     "output_type": "stream",
     "text": [
      "{'awful': 19, 'bad': 255, 'boring': 48, 'dull': 23, 'effective': 120, 'enjoyable': 95, 'great': 408, 'hilarious': 125}\n",
      "None\n"
     ]
    }
   ],
   "source": [
    "# YOUR CODE GOES HERE \n",
    "\n",
    "#build a simple Naive Bayes classifier for this dataset.\n",
    "\n",
    "\n",
    "#words occur independently in documents within a given category (condititional independence), with frequencies determined by document category. \n",
    "#text file::\n",
    "\n",
    "#dictionary word:: \n",
    "#Our feature vector representation for each text file will be simply a \n",
    "#binary vector that shows which of the following words are present in the \n",
    "#text file: Awful Bad Boring Dull Effective Enjoyable Great Hilarious. \n",
    "#For example the text file cv996 11592.txt would be represented as (0, 0, 0, 0, 1, 0, 1, 0) because it contains Effective and Great but none of the other words.\n",
    "\n",
    "import os\n",
    "#import numpy as np\n",
    "#from tabulate import tabulate\n",
    "#from random import random\n",
    "\n",
    "words = ['awful', 'bad', 'boring', 'dull', 'effective', 'enjoyable', 'great', 'hilarious']\n",
    "\n",
    "words_p = {'awful':0,'bad':0,'boring':0, 'dull':0,'effective':0,'enjoyable':0,'great':0,'hilarious':0}\n",
    "words_n = {'awful':0,'bad':0,'boring':0, 'dull':0,'effective':0,'enjoyable':0,'great':0,'hilarious':0}\n",
    "found = {'awful':0,'bad':0,'boring':0, 'dull':0,'effective':0,'enjoyable':0,'great':0,'hilarious':0}\n",
    "\n",
    "def parse_text():  \n",
    "    \n",
    "    #found = 0\n",
    "    \n",
    "    path = \"/home/jovyan/assignment-3/txt_sentoken/pos\"\n",
    "    for subdir, dirs, files in os.walk(path):                #https://stackoverflow.com/questions/10377998/how-can-i-iterate-over-files-in-a-given-directory\n",
    "        for file in files:\n",
    "            \n",
    "           \n",
    "        \n",
    "        #print os.path.join(subdir, file)\n",
    "            filepath = subdir + os.sep + file\n",
    "            readfile = open('/home/jovyan/assignment-3/txt_sentoken/pos' + os.sep + file)\n",
    "            for key in found:\n",
    "                found[key] = 0\n",
    "\n",
    "            for lines in readfile.readlines():\n",
    "                line = lines.split()\n",
    "                    #print(line)\n",
    "                   # if found == 0:\n",
    "                for word in words:\n",
    "                    if (found[word] == 0):\n",
    "                    #print(found[word])\n",
    "                        #print(words_p[word])\n",
    "                        if word in line:\n",
    "                            found[word] = 1 \n",
    "                            words_p[word] += 1    #adjust count \n",
    "                                      \n",
    "\n",
    "    print(words_p)\n",
    "                \n",
    "                \n",
    "\n",
    "\n",
    "\n",
    "print(parse_text())\n",
    " #   \n"
   ]
  },
  {
   "cell_type": "markdown",
   "metadata": {},
   "source": [
    "# Question 7 (Basic)  - 1 point \n",
    "\n",
    "Explain how the probability estimates for each dictionary word given the review polarity can be combined to form a Naive Bayes classifier. You can look up Bernoulli Bayes model for this simple model where only presence/absence of a word is modeled.\n",
    "\n",
    "Your answer should be a description of the process with equations and a specific example as markdown text NOT python code. You will write the code in the next question. "
   ]
  },
  {
   "cell_type": "markdown",
   "metadata": {},
   "source": [
    "# YOUR CODE GOES HERE \n",
    "\n",
    "Explain how probability estimates for each dictionary word\n",
    "given the review polarity can be combined to form a Naive Bayes\n",
    "classifier \n",
    "\n",
    "\n",
    "\n",
    "Bernoulli Bayes model \n",
    "\n",
    "\n"
   ]
  },
  {
   "cell_type": "markdown",
   "metadata": {},
   "source": [
    "# QUESTION 8 (EXPECTED) 1 point\n",
    "\n",
    "Write Python code for classifying a particular test instance (in our case movie review) following a Bernolli Bayes approach. Your code should calculate the likelihood the review is positive given the correspondng conditional probabilities for each dictionary word as well as the likelihood the review is negative given the corresponding conditional probabilities for each dictionary word. Check that your code works by providing a few example cases of prediction. Your code should be written from \"scratch\" and only use numpy/scipy but **NOT** machine learning libraries like scikit-learn or tensorflow.\n",
    "\n"
   ]
  },
  {
   "cell_type": "code",
   "execution_count": 141,
   "metadata": {},
   "outputs": [
    {
     "name": "stdout",
     "output_type": "stream",
     "text": [
      "review 1: (0.05751045743898076, 0.9424895425610192)\n",
      "review 2: (0.2987254534254119, 0.7012745465745882)\n",
      "review 3: (0.9235529619927509, 0.07644703800724907)\n"
     ]
    }
   ],
   "source": [
    "# YOUR MARKDOWN GOES HERE \n",
    "\n",
    "def classify(review):\n",
    "    pos = [0.034, 0.28, 0.054, 0.025, 0.154, 0.096, 0.485, 0.132]\n",
    "    neg = [0.122, 0.545, 0.175, 0.101, 0.086, 0.054, 0.32, 0.059]\n",
    "    \n",
    "    review = review.lower()\n",
    "    vector = np.array([1 if word in review else 0 for word in words])\n",
    "    \n",
    "    p, n = 0.5, 0.5 # P(POS), P(NEG) \n",
    "    for word, p_pos, p_neg in zip(vector, pos, neg):\n",
    "        p *= p_pos if word else (1 - p_pos)\n",
    "        n *= p_neg if word else (1 - p_neg)\n",
    "    \n",
    "    return p / (p + n), n / (p + n)\n",
    "\n",
    "review_1 = \"bad grandpa was an awfully hilarious movie. johnny knoxville was enjoyable as always, there wasn't a dull or boring moment. 5/7 great movie\"\n",
    "print(f'review 1: {classify(review_1)}')   \n",
    "\n",
    "review_2 = \"avatar was bad, awful, and an effective waste of $20, the only redeeming quaility was the great 3d effects\"\n",
    "print(f'review 2: {classify(review_2)}')\n",
    "\n",
    "review_3 = \"toy story 4 was a fantastic movie. it was a great way to wrap up the story. the ending was enjoyable yet sad. the toys antics were hilarious as always\"\n",
    "print(f'review 3: {classify(review_3)}')\n",
    "\n"
   ]
  },
  {
   "cell_type": "markdown",
   "metadata": {},
   "source": [
    "# QUESTION 9 (EXPECTED) 1 point \n",
    "\n",
    "\n",
    "Calculate the classification accuracy and confusion matrix that you would obtain using the whole data set for both training and testing. Do not use machine learning libraries like scikit-learn or tensorflow for this only the basic numpy/scipy stuff.\n",
    "\n",
    "\n"
   ]
  },
  {
   "cell_type": "code",
   "execution_count": 142,
   "metadata": {},
   "outputs": [
    {
     "name": "stdout",
     "output_type": "stream",
     "text": [
      "classification accuracy: 0.6705\n",
      "confusion matrix:\n",
      "[720.0, 280.0]\n",
      "[621.0, 379.0]\n"
     ]
    }
   ],
   "source": [
    "# YOUR CODE GOES HERE \n",
    "def classification_accuracy():\n",
    "    matrix = np.zeros((2, 2))\n",
    "    for s, d, files in os.walk('txt_sentoken'):\n",
    "        for file in files:\n",
    "            with open(s + os.sep + file) as f:\n",
    "                pos, neg = classify(f.read().lower())\n",
    "                if 'pos' in s:\n",
    "                    if pos > neg:\n",
    "                        matrix[0][0] += 1\n",
    "                    else:\n",
    "                        matrix[0][1] += 1\n",
    "                else:\n",
    "                    if neg > pos:\n",
    "                        matrix[1][0] += 1\n",
    "                    else:\n",
    "                        matrix[1][1] += 1\n",
    "                        \n",
    "    accuracy = (matrix[0][0] + matrix[1][0]) / sum(sum(matrix))                \n",
    "    return accuracy, matrix\n",
    "                 \n",
    "a, m = classification_accuracy()\n",
    "\n",
    "print(f'classification accuracy: {a}')\n",
    "print('confusion matrix:')\n",
    "print(m.tolist()[0])\n",
    "print(m.tolist()[1])\n",
    "\n"
   ]
  },
  {
   "cell_type": "markdown",
   "metadata": {},
   "source": [
    "# QUESTION 10 (ADVANCED) 1 point \n",
    "\n",
    "One can consider the Naive Bayes classifier a generative model that can generate binary feature vectors using the associated probabilities from the training data. The idea is similar to how we do direct sampling in Bayesian Networks and depends on generating random number from a discrete distribution. Describe how you would generate random movie reviews consisting solely of the words from the dictionary using your model. Show 5 examples of randomly generated positive reviews and 5 examples of randomly generated negative reviews. Each example should consists of a subset of the words in the dictionary. Hint: use probabilities to generate both the presence and absence of a word. \n"
   ]
  },
  {
   "cell_type": "markdown",
   "metadata": {},
   "source": [
    "# Extra ideas (no credit) \n",
    "\n",
    "* Check the associated README file and see what convention is used for the 10-fold cross-validation. Calculate the classification accuracy and confusion matrix using the recommended 10-fold cross-validation. Again do NOT use \n",
    "ML libraries such as scikit-learn or tensorflow and just use numpy/scipy. \n",
    "* Implement the all the question using a ML library such as scikit-learn or tensorflow and a Naive Bayes Bernoulli classifier. \n"
   ]
  },
  {
   "cell_type": "code",
   "execution_count": null,
   "metadata": {},
   "outputs": [],
   "source": []
  },
  {
   "cell_type": "code",
   "execution_count": null,
   "metadata": {},
   "outputs": [],
   "source": []
  }
 ],
 "metadata": {
  "kernelspec": {
   "display_name": "Python 3",
   "language": "python",
   "name": "python3"
  },
  "language_info": {
   "codemirror_mode": {
    "name": "ipython",
    "version": 3
   },
   "file_extension": ".py",
   "mimetype": "text/x-python",
   "name": "python",
   "nbconvert_exporter": "python",
   "pygments_lexer": "ipython3",
   "version": "3.9.2"
  }
 },
 "nbformat": 4,
 "nbformat_minor": 4
}
