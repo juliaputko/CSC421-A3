{
 "cells": [
  {
   "cell_type": "markdown",
   "metadata": {},
   "source": [
    "# CSC421 Fall 2021 Assignment 3 \n",
    "### Author: George Tzanetakis \n",
    "\n",
    "This notebook is based on the topics covered in **Chapter 12 - Quantifying Uncertainty **, **Chapter 13 Probabilistic Reasoning** from the book *Artificial Intelligence: A Modern Approach.*  You are welcome and actually it can be educational to look at the code at the aima-code repository as well as other code resources you can find on the web. However, make sure you understand any code that you incoporate. \n",
    "\n",
    "The assignment structure is as follows - each item is worth 1 point: \n",
    "\n",
    "1. Snakes and ladder simulation (Basic) - basic rolling and movement simulation, no ladders/snakes \n",
    "2. Snakes and ladder simulation (Basic) - multiple simulations and recording of number of rolls \n",
    "3. Snakes and ladder simulation (Expected) - adding of user-specified ladders/snakes \n",
    "4. Snakes and ladder simulation (Expected) - simulation to determine probability distribution of number of rolls \n",
    "5. Snakes and ladder simulation (Advanced) - exact inference + simulation with different ending rules \n",
    "6. Naive Bayes text classsification (Basic) - conditional probabilities for dictionary words \n",
    "7. Naive Bayes text classification (Basic) - markdown equations for Bernoulli \n",
    "8. Naive Bayes text classification (Expected) - prediction of movie review polarity \n",
    "9. Naive Bayes text classification (Expected) - classification accuracy and confusion matrix \n",
    "10. Naive Bayes text classification (Advanced) - probabilitistic generation of movie reviews \n",
    "\n",
    "The grading will be done in 0.5 increments. 1 point for correct answer, 0.5 points for partial or incorrect \n",
    "but reasonable answer and 0.0 for no answer or completely wrong answer. \n"
   ]
  },
  {
   "cell_type": "markdown",
   "metadata": {},
   "source": [
    "# Introduction \n",
    "\n",
    "This question uses the board game of snakes and ladders to explore the concepts behind probability, \n",
    "stochastic simulation as well as exact and approximate inference. I assume that most of you are familiar \n",
    "with snakes and ladders. If you need a refresher check the following link: \n",
    "\n",
    "https://www.ymimports.com/pages/how-to-play-snakes-and-ladders\n",
    "\n",
    "\n"
   ]
  },
  {
   "cell_type": "markdown",
   "metadata": {},
   "source": [
    "# Question 1 (Basic)  - 1 point\n",
    "\n",
    "Your first task will be to write a simple movement simulator on a snakes and ladders board. \n",
    "For this question you can ignore the snakes and ladders and just simply assume you only \n",
    "have to deal with moving. You will need to simulate rolling the die - this can be done \n",
    "by using the Python *random* module and the *randint* method. Your function *play_game* \n",
    "will take as input the length of the board (an integer), \"play\" the game by rolling the die \n",
    "multiple times until the sum of rolls is larger or equal to the length of the board.  (note: \n",
    "this is one of the possible and simplest end rules). The function should return the total \n",
    "number of rolls required to finish the the particular game that was played. Obviously \n",
    "this number will vary as it depends on the specific random rolls performed during the movement \n",
    "simulation. \n",
    "\n",
    "\n",
    "\n",
    "\n"
   ]
  },
  {
   "cell_type": "code",
   "execution_count": 16,
   "metadata": {},
   "outputs": [
    {
     "name": "stdout",
     "output_type": "stream",
     "text": [
      "32\n"
     ]
    }
   ],
   "source": [
    "# YOUR CODE GOES HERE \n",
    "import random \n",
    "    \n",
    "# function returns the total number of rolls required to finish the particular game that was played \n",
    "# this number will vary depending on the specific random rolls performed during the movement simulation \n",
    "\n",
    "def play_game(board_len):\n",
    "    moves = 0\n",
    "    pos = 0\n",
    "    while (pos < board_len):  #less than boadd len \n",
    "        moves += 1     #count moves \n",
    "        die_roll = random.randint(1,6)   #roll die \n",
    "    \n",
    "        pos = pos + die_roll\n",
    "        if (pos > board_len): #done   #play game by rolling the die multiple times until the sum of the rolls is larger or equal to the length of the board \n",
    "            break \n",
    "    \n",
    "    return moves\n",
    "    \n",
    "print(play_game(100))\n"
   ]
  },
  {
   "cell_type": "markdown",
   "metadata": {},
   "source": [
    "# Question 2 (Basic) - 1 point\n",
    "\n",
    "Your next task is to collect information about the probability distribution of number of rolls using the *play_game* function you implemented in the previous subquestion. Simulate playing the game 1000 times with a board length of 100 and record the number of rolls for each simulation. Show the histogram of the number of rolls for this simulation. You don't need to plot the histogram but can simply show the counts for each number of rolls as text. You can also create a plot using either the *matplotlib* or *bokeh* plotting frameworks. Make sure you include appropriate pip install and import statements in your notebook and check that it works in the Jupyterhub of the course. \n",
    "\n"
   ]
  },
  {
   "cell_type": "code",
   "execution_count": 17,
   "metadata": {},
   "outputs": [
    {
     "name": "stdout",
     "output_type": "stream",
     "text": [
      "Collecting matplotlib\n",
      "  Using cached matplotlib-3.4.3-cp39-cp39-manylinux1_x86_64.whl (10.3 MB)\n",
      "Collecting pillow>=6.2.0\n",
      "  Using cached Pillow-8.4.0-cp39-cp39-manylinux_2_17_x86_64.manylinux2014_x86_64.whl (3.1 MB)\n",
      "Collecting kiwisolver>=1.0.1\n",
      "  Using cached kiwisolver-1.3.2-cp39-cp39-manylinux_2_12_x86_64.manylinux2010_x86_64.whl (1.6 MB)\n",
      "Requirement already satisfied: python-dateutil>=2.7 in /opt/conda/lib/python3.9/site-packages (from matplotlib) (2.8.1)\n",
      "Collecting cycler>=0.10\n",
      "  Using cached cycler-0.11.0-py3-none-any.whl (6.4 kB)\n",
      "Requirement already satisfied: numpy>=1.16 in /opt/conda/lib/python3.9/site-packages (from matplotlib) (1.21.4)\n",
      "Requirement already satisfied: pyparsing>=2.2.1 in /opt/conda/lib/python3.9/site-packages (from matplotlib) (2.4.7)\n",
      "Requirement already satisfied: six>=1.5 in /opt/conda/lib/python3.9/site-packages (from python-dateutil>=2.7->matplotlib) (1.16.0)\n",
      "Installing collected packages: pillow, kiwisolver, cycler, matplotlib\n",
      "Successfully installed cycler-0.11.0 kiwisolver-1.3.2 matplotlib-3.4.3 pillow-8.4.0\n",
      "ERROR: unknown command \"intall\" - maybe you meant \"install\"\n"
     ]
    }
   ],
   "source": [
    "!pip install matplotlib\n",
    "!pip intall numpy\n"
   ]
  },
  {
   "cell_type": "code",
   "execution_count": 18,
   "metadata": {
    "scrolled": true
   },
   "outputs": [
    {
     "data": {
      "image/png": "[encoded data removed]",
      "text/plain": [
       "<Figure size 432x288 with 1 Axes>"
      ]
     },
     "metadata": {
      "needs_background": "light"
     },
     "output_type": "display_data"
    }
   ],
   "source": [
    "# YOUR CODE GOES HERE \n",
    "import random \n",
    "import numpy as np\n",
    "from matplotlib import pyplot as plt\n",
    "\n",
    "   \n",
    "def play_game(board_len):\n",
    "    moves = 0  #the number of times you roll\n",
    "    pos = 0\n",
    "    while (pos < board_len):  #less than boadd len \n",
    "        moves += 1     #count moves \n",
    "        die_roll = random.randint(1,6)   #roll die \n",
    "    \n",
    "        pos = pos + die_roll\n",
    "        if (pos > board_len): #done   #play game by rolling the die multiple times until the sum of the rolls is larger or equal to the length of the board \n",
    "            break \n",
    "    \n",
    "    return moves\n",
    "\n",
    "simulation = []\n",
    "simulation = [play_game(100) for i in range(1000)]\n",
    "\n",
    "#print(simulation)\n",
    "#print(len(simulation))\n",
    "\n",
    "#collect information about the probability distrubution of number of rolls \n",
    "\n",
    "#record the number of rolls for each simulation\n",
    "#\n",
    "\n",
    "#bins = np.arange(20, 40, 1) # fixed bin size\n",
    "#plt.hist(simulation, bins=bins, alpha=1)\n",
    "plt.hist(simulation)\n",
    "plt.title('probability distrubution of number of rolls')\n",
    "plt.xlabel('number of rolls')\n",
    "plt.ylabel('number of simulations')\n",
    "plt.show()\n",
    "\n",
    "#probability distribution of the number of rolls using the play_game function\n",
    "\n",
    "#simulate playing 1000 games\n",
    "#board length 100 \n",
    "#record the number of rolls for each simulation"
   ]
  },
  {
   "cell_type": "markdown",
   "metadata": {},
   "source": [
    "# Question 3 (Expected) 1 point \n",
    "\n",
    "Extent your *play_game* method to take as input a specification of snake and ladder positions and then perform the appropriate movement simulation. Just as before playing the game returns the number of rolls required to finish the game using the same simple end rule as the previous subquestions. \n",
    "\n",
    "<img src=\"snakes_ladders.png\" width=\"50%\"/>\n",
    "\n",
    "The snake and ladders positions will be encoded as a list of tuples. If the first number of the tuple is smaller than the second one it is ladder otherwise it is a snake. For example two of the snakes and one of the ladders\n",
    "in the board above would be represented as: "
   ]
  },
  {
   "cell_type": "code",
   "execution_count": 19,
   "metadata": {},
   "outputs": [
    {
     "name": "stdout",
     "output_type": "stream",
     "text": [
      "[(34, 6), (32, 10), (1, 38)]\n"
     ]
    }
   ],
   "source": [
    "snakeA = (34,6)\n",
    "snakeB = (32,10)\n",
    "ladderC = (1,38)\n",
    "snake_ladder_list = [snakeA,snakeB,ladderC]\n",
    "print(snake_ladder_list)\n"
   ]
  },
  {
   "cell_type": "markdown",
   "metadata": {},
   "source": [
    "Your play game function should take as input the snake and ladder specification. For testing and experiments use the board provided in the image above. "
   ]
  },
  {
   "cell_type": "code",
   "execution_count": 20,
   "metadata": {
    "scrolled": true
   },
   "outputs": [
    {
     "name": "stdout",
     "output_type": "stream",
     "text": [
      "12\n"
     ]
    }
   ],
   "source": [
    "# YOUR CODE GOES HERE \n",
    "\n",
    "#Extent your play_game method to take as input a specification of snake and ladder \n",
    "#positions and then perform the appropriate movement simulation. \n",
    "#Just as before playing the game returns the number of rolls required to finish the game \n",
    "#using the same simple end rule as the previous subquestions.\n",
    "#The snake and ladders positions will be encoded as a \n",
    "#list of tuples. If the first number of the tuple is smaller than the \n",
    "#second one it is ladder otherwise it is a snake. \n",
    "\n",
    "def play_game(board_len,snakes_ladders):\n",
    "    moves = 0  #the number of times you roll\n",
    "    pos = 0\n",
    "    num = 0\n",
    "\n",
    "             \n",
    "    #position(in snakeladder)-->pos(,beside)\n",
    "      \n",
    "    while (pos < board_len):  #less than boadd len \n",
    "        moves += 1     #count moves \n",
    "        die_roll = random.randint(1,6)   #roll die \n",
    "    \n",
    "        pos = pos + die_roll\n",
    "              \n",
    "        for item in snakes_ladders:\n",
    "            if item[0] == pos:\n",
    "               # print(\"pos\",pos)\n",
    "                pos = item[1]\n",
    "               # print(pos)\n",
    "        \n",
    "        if (pos > board_len): \n",
    "            break \n",
    "            \n",
    "      \n",
    "    \n",
    "    return moves\n",
    "\n",
    "\n",
    "LadderA = (1,38)\n",
    "LadderB = (4,14)\n",
    "LadderC = (8,10) \n",
    "LadderD = (21,42) \n",
    "LadderE = (28,76)\n",
    "LadderF = (50,67)\n",
    "LadderG = (71,92)\n",
    "LadderH = (80,99) \n",
    "SnakeI = (32,10)\n",
    "SnakeJ = (36,6)\n",
    "SnakeK = (48,26)\n",
    "SnakeL = (62,18)\n",
    "SnakeM = (88,24)\n",
    "SnakeN = (95,56)\n",
    "SnakeO = (97,78)\n",
    "\n",
    "snakes_ladders = [LadderA,LadderB,LadderC,LadderD,LadderE,LadderF,LadderG,LadderH,SnakeI,SnakeJ,SnakeK,SnakeL,SnakeM,SnakeN,SnakeO]\n",
    "\n",
    "#print(snakes_ladders)\n",
    "#items = ([item for item in snakes_ladders if item[0] == 1])\n",
    "#print(items)\n",
    "\n",
    "#print(num[0])\n",
    " \n",
    "    \n",
    "print(play_game(100,snakes_ladders))\n",
    "   \n",
    "   #look thru list\n"
   ]
  },
  {
   "cell_type": "markdown",
   "metadata": {},
   "source": [
    "# QUESTION 4 (EXPECTED) - 1 point"
   ]
  },
  {
   "cell_type": "markdown",
   "metadata": {},
   "source": [
    "Use the full game simulation that incoprorates the snakes and ladders, simulate 1000 games and record \n",
    "probability distribution of the number of rolls as a histogram similarly to the previous subquestion. \n",
    "Modify your code to support the following additional ending variations: \n",
    "\n",
    "* Exact landing: the piece needs to end exactly at the last square. If the roll exceeds the square then it is discarded but counted for the number of rolls \n",
    "* Bounce back variation:  If the roll is too high, the player's piece will bounce off the last space and move back. For example, if a player had four spaces to get to 100 and rolled a 6, the piece will move four spaces to 100, then “bounce back\" two spaces to 98.\n",
    "\n",
    "\n",
    "Show the histogram of the number of rolls for each ending variation. "
   ]
  },
  {
   "cell_type": "code",
   "execution_count": 21,
   "metadata": {},
   "outputs": [
    {
     "data": {
      "image/png": "[encoded data removed]",
      "text/plain": [
       "<Figure size 432x288 with 1 Axes>"
      ]
     },
     "metadata": {
      "needs_background": "light"
     },
     "output_type": "display_data"
    },
    {
     "data": {
      "image/png": "[encoded data removed]",
      "text/plain": [
       "<Figure size 432x288 with 1 Axes>"
      ]
     },
     "metadata": {
      "needs_background": "light"
     },
     "output_type": "display_data"
    }
   ],
   "source": [
    "# YOUR CODE GOES HERE\n",
    "\n",
    "#simulate 1000 games and record probability distrbution of the number of rolls as hsitogram \n",
    "\n",
    "#2 ending variations\n",
    "\n",
    "#exact landing: the piece needs to end exactly at the last square\n",
    "#if the roll exceeds the square then it is discarded by counted for the number of rolls \n",
    "def play_game_exact_landing(board_len,snakes_ladders):\n",
    "    moves = 0  #the number of times you roll\n",
    "    pos = 0\n",
    "    num = 0\n",
    "      \n",
    "    while (pos < board_len):  #less than boadd len \n",
    "        moves += 1     #count moves \n",
    "        die_roll = random.randint(1,6)   #roll die \n",
    "        pos = pos + die_roll\n",
    "        \n",
    "        for item in snakes_ladders:\n",
    "            if item[0] == pos:\n",
    "               # print(\"pos\",pos)\n",
    "                pos = item[1]\n",
    "               # print(pos)\n",
    "        \n",
    "        if (pos == board_len):  #must be == to board_len otherwise ... \n",
    "            break  \n",
    "        #if (pos > board_len):  #if  If the roll exceeds the square then it is discarded but counted for the number of rolls\n",
    "\n",
    "    return moves\n",
    "\n",
    "#bounce back variabation: if the roll is too high the player's piece will bounce off the last space and move back \n",
    "#eg. if a player had four spaces to get to 100 and rolled a 6, the pieve will move four spaces to 100, then bounce back two spaces to 98\n",
    "def play_game_bounce_back(board_len,snakes_ladders):\n",
    "    moves = 0  #the number of times you roll\n",
    "    pos = 0\n",
    "    num = 0\n",
    "      \n",
    "    while (pos < board_len):  #less than boadd len \n",
    "        moves += 1     #count moves \n",
    "        die_roll = random.randint(1,6)   #roll die \n",
    "        pos = pos + die_roll\n",
    "       \n",
    "        for item in snakes_ladders:\n",
    "            if item[0] == pos:\n",
    "               # print(\"pos\",pos)\n",
    "                pos = item[1]\n",
    "               # print(pos)\n",
    "        \n",
    "        if (pos == board_len):  #if roll is too high \n",
    "            break    \n",
    "        if (pos > board_len):  #if roll is too high \n",
    "            #board len = 100\n",
    "            #pos = 96 \n",
    "           # die_roll = 6\n",
    "            #board_len- pos = 4\n",
    "                          #6           #100   -  96 = 4   (6-4) =2    \n",
    "            bounce_back = die_roll - (board_len - pos)\n",
    "            #98  = 100.  - 2 \n",
    "            pos = board_len - bounce_back\n",
    "        \n",
    "    return moves\n",
    "\n",
    "\n",
    "LadderA = (1,38)\n",
    "LadderB = (4,14)\n",
    "LadderC = (8,10) \n",
    "LadderD = (21,42) \n",
    "LadderE = (28,76)\n",
    "LadderF = (50,67)\n",
    "LadderG = (71,92)\n",
    "LadderH = (80,99) \n",
    "SnakeI = (32,10)\n",
    "SnakeJ = (36,6)\n",
    "SnakeK = (48,26)\n",
    "SnakeL = (62,18)\n",
    "SnakeM = (88,24)\n",
    "SnakeN = (95,56)\n",
    "SnakeO = (97,78)\n",
    "\n",
    "snakes_ladders = [LadderA,LadderB,LadderC,LadderD,LadderE,LadderF,LadderG,LadderH,SnakeI,SnakeJ,SnakeK,SnakeL,SnakeM,SnakeN,SnakeO]\n",
    "\n",
    "#show histogram for exact landing ending variation \n",
    "simulationSL_exact = []\n",
    "simulationSL_exact = [play_game(100,snakes_ladders) for i in range(1000)]\n",
    "\n",
    "#plt.hist(simulationSL_exact)\n",
    "n, bins, patches = plt.hist(simulationSL_exact, weights=np.ones_like(simulationSL_exact) / len(simulationSL_exact),\n",
    "                            alpha=0.75)\n",
    "plt.title('exact landing ')\n",
    "plt.xlabel('number of rolls')\n",
    "plt.ylabel('probability distrubution of number of rolls')\n",
    "plt.show()\n",
    "\n",
    "#show histogram for bounce back ending variation\n",
    "simulationSL_bounce = []\n",
    "simulationSL_bounce = [play_game(100,snakes_ladders) for i in range(1000)]\n",
    "\n",
    "#plt.hist(simulationSL_bounce)\n",
    "n, bins, patches = plt.hist(simulationSL_bounce, weights=np.ones_like(simulationSL_bounce) / len(simulationSL_bounce),\n",
    "                            alpha=0.75)\n",
    "plt.title('bounce back')\n",
    "plt.xlabel('number of rolls')\n",
    "plt.ylabel('probability distrubution of number of rolls')\n",
    "plt.show()\n",
    "\n"
   ]
  },
  {
   "cell_type": "markdown",
   "metadata": {},
   "source": [
    "# QUESTION 5 (ADVANCED) - 1 point \n",
    "\n",
    "In this question the goal is to perform exact probabilistic inference for the number of rolls. Rather than simulating the game and recording the number of moves you will need to compute systematically the probabilities of every possible sequence of rolls. You should use the simplified version of board movement with no snakes and ladders and the simple landing rule. As an example let's consider a very short board of 4 squares. The only sequence of 1 roll that finishes the game is rolling a 4 which has $P(4) = 1/6$. For two rolls we have more possibilities such as 1,3 or 3,1 or 2,2 or 2,3 or 3,2 etc. For example the probability of (1,3) is $P(1,3) = 1/6 * 1/6$. Your code should systematically calculate the right products and sums to come up with probabilities for \n",
    "each possible number of rolls. To make this a bit simpler consider a board of length $25$. I advise that you first start by looking at very short boards and checking some of the calculations by hand. \n",
    "\n",
    "Compare the results you get from exact inference with the results you get from approximate inference for the same board length. "
   ]
  },
  {
   "cell_type": "code",
   "execution_count": 10,
   "metadata": {},
   "outputs": [],
   "source": [
    "# YOUR CODE GOES HERE \n",
    "\n",
    "\n",
    "\n"
   ]
  },
  {
   "cell_type": "markdown",
   "metadata": {},
   "source": [
    "# Extra ideas (no credit) \n",
    "\n",
    "* Implement a GUI for showing the snakes/ladders board and support multiple players \n"
   ]
  },
  {
   "cell_type": "markdown",
   "metadata": {},
   "source": [
    "# Text Categorization\n",
    "\n",
    "\n",
    "Text categorization is the task of assigning a given document to one of a fixed set of categories, on the basis of text it contains. Naive Bayes models are often used for this task. In these models, the query variable is\n",
    "the document category, and the effect variables are the presence/absence\n",
    "of each word in the language; the assumption is that words occur independently in documents within a given category (condititional independence), with frequencies determined by document category. Download the following file: http://www.cs.cornell.edu/People/pabo/movie-review-data/review_polarity.tar.gz containing a dataset that has been used for text mining consisting of movie reviews classified into negative and positive. You\n",
    "will see that there are two folders for the positivie and negative category and they each contain multiple text files with the reviews. You can find more information about the dataset at: \n",
    "http://www.cs.cornell.edu/People/pabo/movie-review-data/\n",
    "\n",
    "\n",
    "Our goal will be to build a simple Naive Bayes classifier for this dataset. More complicated approaches using term frequency and inverse document frequency weighting and many more words are possible but the basic concepts\n",
    "are the same. The goal is to understand the whole process so DO NOT use existing machine learning packages but rather build the classifier from scratch.\n",
    "\n",
    "Our feature vector representation for each text file will be simply a binary vector that shows which of the following words are present in the text file: Awful Bad Boring Dull Effective Enjoyable Great Hilarious. For example the text file cv996 11592.txt would be represented as (0, 0, 0, 0, 1, 0, 1, 0) because it contains Effective and Great but none of the other words."
   ]
  },
  {
   "cell_type": "markdown",
   "metadata": {},
   "source": [
    "# Question 6 (Basic) -1 point\n",
    "\n",
    "Write code that parses the text files and calculates the probabilities for each dictionary word given the review polarity\n"
   ]
  },
  {
   "cell_type": "code",
   "execution_count": 11,
   "metadata": {},
   "outputs": [
    {
     "name": "stdout",
     "output_type": "stream",
     "text": [
      "\u001b[31mERROR: Could not find a version that satisfies the requirement os (from versions: none)\u001b[0m\n",
      "\u001b[31mERROR: No matching distribution found for os\u001b[0m\n",
      "Requirement already satisfied: numpy in /opt/conda/lib/python3.9/site-packages (1.21.4)\n"
     ]
    }
   ],
   "source": [
    "#! pip install tabulate\n",
    "#! pip install os\n",
    "! pip install numpy \n",
    "#! pip install random"
   ]
  },
  {
   "cell_type": "code",
   "execution_count": 25,
   "metadata": {},
   "outputs": [
    {
     "name": "stdout",
     "output_type": "stream",
     "text": [
      "pos\n",
      "awful : 19/1000 : 0.19%\n",
      "bad : 255/1000 : 2.55%\n",
      "boring : 48/1000 : 0.48%\n",
      "dull : 23/1000 : 0.23%\n",
      "effective : 120/1000 : 1.2%\n",
      "enjoyable : 95/1000 : 0.95%\n",
      "great : 408/1000 : 4.08%\n",
      "hilarious : 125/1000 : 1.25%\n",
      "\n",
      "\n",
      "neg\n",
      "awful : 101/1000 : 1.01%\n",
      "bad : 505/1000 : 5.05%\n",
      "boring : 169/1000 : 1.69%\n",
      "dull : 91/1000 : 0.91%\n",
      "effective : 46/1000 : 0.46%\n",
      "enjoyable : 53/1000 : 0.53%\n",
      "great : 286/1000 : 2.86%\n",
      "hilarious : 50/1000 : 0.5%\n",
      "None\n"
     ]
    }
   ],
   "source": [
    "# YOUR CODE GOES HERE \n",
    "\n",
    "#build a simple Naive Bayes classifier for this dataset.\n",
    "\n",
    "#ASSUMPTIONS\n",
    "#deleted checkpoint files in /pos and /neg\n",
    "\n",
    "\n",
    "import os\n",
    "\n",
    "\n",
    "words = ['awful', 'bad', 'boring', 'dull', 'effective', 'enjoyable', 'great', 'hilarious']\n",
    "\n",
    "words_p = {'awful':0,'bad':0,'boring':0, 'dull':0,'effective':0,'enjoyable':0,'great':0,'hilarious':0}\n",
    "words_n = {'awful':0,'bad':0,'boring':0, 'dull':0,'effective':0,'enjoyable':0,'great':0,'hilarious':0}\n",
    "found1 = {'awful':0,'bad':0,'boring':0, 'dull':0,'effective':0,'enjoyable':0,'great':0,'hilarious':0}\n",
    "found2 = {'awful':0,'bad':0,'boring':0, 'dull':0,'effective':0,'enjoyable':0,'great':0,'hilarious':0}\n",
    "\n",
    "def parse_text():  \n",
    "    \n",
    "    path = \"/home/jovyan/assignment-3/txt_sentoken/pos\"\n",
    "    for subdir, dirs, files in os.walk(path):                #https://stackoverflow.com/questions/10377998/how-can-i-iterate-over-files-in-a-given-directory\n",
    "        for file in files:\n",
    "            filepath = subdir + os.sep + file\n",
    "            readfile = open('/home/jovyan/assignment-3/txt_sentoken/pos' + os.sep + file)\n",
    "            for key in found1:\n",
    "                found1[key] = 0\n",
    "\n",
    "            for lines in readfile.readlines():\n",
    "                line = lines.split()\n",
    "                for word in words:\n",
    "                    if (found1[word] == 0):\n",
    "                        if word in line:\n",
    "                            found1[word] = 1 \n",
    "                            words_p[word] += 1    #adjust count \n",
    "  \n",
    "                \n",
    "    path = \"/home/jovyan/assignment-3/txt_sentoken/neg\"\n",
    "    for subdir, dirs, files in os.walk(path):                #https://stackoverflow.com/questions/10377998/how-can-i-iterate-over-files-in-a-given-directory\n",
    "        for file in files:\n",
    "            filepath = subdir + os.sep + file\n",
    "            readfile = open('/home/jovyan/assignment-3/txt_sentoken/neg' + os.sep + file)\n",
    "            for key in found2:\n",
    "                found2[key] = 0\n",
    "\n",
    "            for lines in readfile.readlines():\n",
    "                line = lines.split()\n",
    "                for word in words:\n",
    "                    if (found2[word] == 0):\n",
    "                        if word in line:\n",
    "                            found2[word] = 1 \n",
    "                            words_n[word] += 1    #adjust count \n",
    "    \n",
    "    print('pos')\n",
    "    #print(words_p)\n",
    "    for wor_p in words_p:\n",
    "        print(wor_p,':',str(words_p[wor_p]) + '/1000',\":\",str(words_p[wor_p]/100) + '%')\n",
    "    \n",
    "    print('\\n')\n",
    "    print('neg')\n",
    "    #print(words_n)\n",
    "    for wor_n in words_n:\n",
    "        print(wor_n,':',str(words_n[wor_n]) + '/1000',\":\",str(words_n[wor_n]/100) + '%')\n",
    "                \n",
    "\n",
    "\n",
    "\n",
    "print(parse_text())\n",
    "\n",
    "#this is the output I get --> the code works if checkpoint files are deleted (not sure what they are)\n",
    "\n",
    "#pos\n",
    "#awful : 19/1000 : 0.19%\n",
    "#bad : 255/1000 : 2.55%\n",
    "#boring : 48/1000 : 0.48%\n",
    "#dull : 23/1000 : 0.23%\n",
    "#effective : 120/1000 : 1.2%\n",
    "#enjoyable : 95/1000 : 0.95%\n",
    "#great : 408/1000 : 4.08%\n",
    "#hilarious : 125/1000 : 1.25%\n",
    "\n",
    "\n",
    "#neg\n",
    "#awful : 101/1000 : 1.01%\n",
    "#bad : 505/1000 : 5.05%\n",
    "#boring : 169/1000 : 1.69%\n",
    "#dull : 91/1000 : 0.91%\n",
    "#effective : 46/1000 : 0.46%\n",
    "#enjoyable : 53/1000 : 0.53%\n",
    "#great : 286/1000 : 2.86%\n",
    "#hilarious : 50/1000 : 0.5%\n",
    "  \n"
   ]
  },
  {
   "cell_type": "markdown",
   "metadata": {},
   "source": [
    "# Question 7 (Basic)  - 1 point \n",
    "\n",
    "Explain how the probability estimates for each dictionary word given the review polarity can be combined to form a Naive Bayes classifier. You can look up Bernoulli Bayes model for this simple model where only presence/absence of a word is modeled.\n",
    "\n",
    "Your answer should be a description of the process with equations and a specific example as markdown text NOT python code. You will write the code in the next question. "
   ]
  },
  {
   "cell_type": "markdown",
   "metadata": {},
   "source": [
    "# YOUR CODE GOES HERE \n",
    "\n",
    "\n",
    "Bernoulli Bayes model \n",
    "\n",
    "$P(c \\mid x) =  \\frac{P(x \\mid c) P(c)}{P(x)} $\n",
    "\n",
    "$P(c \\mid x)$  : posterior probability  <br />\n",
    "$P(c)$ : prior probability <br />\n",
    "$P(x \\mid c)$ : likelihood  <br />\n",
    "$P(x)$ : prior probability of predictor <br />\n",
    "\n",
    "$ P(c \\mid x) = P(x1\\mid c) \\times P(x2 \\mid c) \\times ... \\times P(xn \\mid c) \\times P(c) $\n",
    "\n",
    "$ P(POS) = \\frac{1000}{2000} = 0.5 $\n",
    "$ P(NEG) = \\frac{1000}{2000} = 0.5 $\n",
    "\n",
    "Using probability estimates for each dictionary word - given review polarity --> to create naive bayes classifier\n",
    "\n",
    "POSITIVE REVIEW \n",
    "\n",
    "likelihood : P(review | pos)\n",
    "$ P(awful \\mid  pos) \\times P(bad \\mid  pos) \\times P(boring \\mid  pos) \\times P(dull \\mid  pos) \\times P(effective \\mid  pos) \\times P(enjoyable \\mid  pos) \\times P(great \\mid  pos) \\times P(hilarious \\mid  pos) $\n",
    "\n",
    "prior probability: $P(pos) = \n",
    " likeligood \\times P(pos)$\n",
    "\n",
    "prior probability of predictor :\n",
    "$ P(review) = \n",
    "(P(review \\mid pos) \\times P(pos)) + (P(review \\mid neg) \\times P(neg)) $\n",
    "\n",
    "\n",
    "NEGATIVE REVIEW \n",
    "\n",
    "likelihood : P(review | neg)\n",
    "$\n",
    "P(awful|neg) \\times P(bad|neg) \\times P(boring|neg) \\times P(dull|neg) \\times P(effective|neg)\\times P(enjoyable|neg) \\times P(great|neg) \\times P(hilarious|neg) \\times P(neg) $\n",
    "\n",
    "prior probability: P(pos)\n",
    "P(neg)\n",
    "\n",
    "prior probability of predictor : P(review)\n",
    "$P(review) =\n",
    "(P(review \\mid pos) \\times P(pos)) + (P(review \\mid neg) \\times P(neg)) $\n",
    "\n",
    "\n",
    "$words = ['awful', 'bad', 'boring', 'dull', 'effective', 'enjoyable', 'great', 'hilarious']$\n",
    "$postitive review word probabilities = [0.019,0.255,0.048,0.023,0.120,0.095,0.408,0.125] $\n",
    "$negative review word probabilities = [0.101,0.505,0.169,0.091,0.046,0.053,0.286,0.005] $\n",
    "\n",
    "\n",
    "Examples: \n",
    "\"this movie was not bad, honestly pretty great\"\n",
    "\n",
    "$ [0,1,0,0,0,0,1,0] $\n",
    "\n",
    "\n",
    "\n",
    "$ P(review \\mid pos) \\times P(pos) = ((1-0.019)(0.255)(1-0.048)(1-0.023)(1-0.120)(1-0.095)(0.408)(1-0.125))(0.5) $\n",
    "\n",
    "= 0.03307578587318729\n",
    "\n",
    "$ P(review \\mid neg) \\times P(neg) = (1-0.101)(0.505)(1-0.169)(1-0.091)(1-0.046)(1-0.053)(0.286)(1-0.005)(0.5) $\n",
    "\n",
    "= 0.044083234140986145\n",
    "\n",
    "\n",
    "$ P(pos \\mid review) = \n",
    "\\frac{0.03307578587318729}{(0.03307578587318729 + 0.044083234140986145)} $\n",
    "\n",
    "= 0.4286703727848223 = ~ 42% \n",
    "\n",
    "\n",
    "$ P(neg \\mid review) = \n",
    "\\frac{0.044083234140986145}{(0.03307578587318729 + 0.044083234140986145)} $\n",
    "\n",
    "= 0.5713296272151778 = ~ 57%\n",
    "\n",
    "\n",
    "\n",
    "\n",
    "\n"
   ]
  },
  {
   "cell_type": "markdown",
   "metadata": {},
   "source": [
    "# QUESTION 8 (EXPECTED) 1 point\n",
    "\n",
    "Write Python code for classifying a particular test instance (in our case movie review) following a Bernolli Bayes approach. Your code should calculate the likelihood the review is positive given the correspondng conditional probabilities for each dictionary word as well as the likelihood the review is negative given the corresponding conditional probabilities for each dictionary word. Check that your code works by providing a few example cases of prediction. Your code should be written from \"scratch\" and only use numpy/scipy but **NOT** machine learning libraries like scikit-learn or tensorflow.\n",
    "\n"
   ]
  },
  {
   "cell_type": "code",
   "execution_count": 145,
   "metadata": {},
   "outputs": [
    {
     "name": "stdout",
     "output_type": "stream",
     "text": [
      "prob positive review 1:  0.4286703727848223 : ~ 42.867 %\n",
      "prob negative review 1:  0.5713296272151778 : ~ 57.133 %\n",
      "\n",
      "\n",
      "prob positive review 2:  0.017371374154243443 : ~ 1.737 %\n",
      "prob negative review 2:  0.9826286258457566 : ~ 98.263 %\n",
      "\n",
      "\n",
      "prob positive review 3:  0.994468943722909 : ~ 99.447 %\n",
      "prob negative review 3:  0.005531056277091145 : ~ 0.553 %\n"
     ]
    }
   ],
   "source": [
    "# YOUR CODE GOES HERE \n",
    "\n",
    "# calcuate likelihood separately for each word \n",
    "# using naive bayes assumption and multiply \n",
    "\n",
    "def likelihood(review,prob_review): \n",
    "    \n",
    "    words = ['awful', 'bad', 'boring', 'dull', 'effective', 'enjoyable', 'great', 'hilarious']\n",
    "    array = [] \n",
    "    #print(array)   \n",
    "    for word in words:\n",
    "        if word in review:\n",
    "            array.append(1)\n",
    "        else:\n",
    "            array.append(0)\n",
    "\n",
    "    #print(array)\n",
    "    probability_product = 0.5\n",
    "    for i in range(8):\n",
    "        \n",
    "        if (array[i]==1):                         #  1 for word in review\n",
    "            probability = prob_review[i]          # take probability of word \n",
    "        else:                                     # 0 for word in review \n",
    "            probability = 1.0 - prob_review[i]    # take 1 - probability of that word \n",
    "        probability_product *= probability        # sum up probabilities \n",
    "        #print(probability_product)\n",
    "    return probability_product\n",
    "\n",
    "\n",
    "word_probs_pos = [0.019,0.255,0.048,0.023,0.120,0.095,0.408,0.125]\n",
    "\n",
    "word_probs_neg = [0.101,0.505,0.169,0.091,0.046,0.053,0.286,0.005]\n",
    "\n",
    "\n",
    "review1 = 'this movie was not bad, honestly pretty great'\n",
    "pos = likelihood(review1,word_probs_pos)\n",
    "neg = likelihood(review1,word_probs_neg)\n",
    "posprob = (pos/(pos+neg)*100)\n",
    "negprob = (neg/(pos+neg)*100)\n",
    "print('prob positive review 1: ',posprob/100,': ~','%.3f'%posprob, '%')\n",
    "print('prob negative review 1: ',negprob/100,': ~','%.3f'%negprob, '%')\n",
    "print('\\n')\n",
    "review2 = 'i hated this movie, it was bad, dull and awful'\n",
    "pos = likelihood(review2,word_probs_pos)\n",
    "neg = likelihood(review2,word_probs_neg)\n",
    "posprob = (pos/(pos+neg)*100)\n",
    "negprob = (neg/(pos+neg)*100)\n",
    "print('prob positive review 2: ',posprob/100,': ~','%.3f'%posprob, '%')\n",
    "print('prob negative review 2: ',negprob/100,': ~','%.3f'%negprob, '%')\n",
    "print('\\n')\n",
    "review3 = 'this movie was great and hilarious, and an effective representation of the character'\n",
    "pos = likelihood(review3,word_probs_pos)\n",
    "neg = likelihood(review3,word_probs_neg)\n",
    "posprob = (pos/(pos+neg)*100)\n",
    "negprob = (neg/(pos+neg)*100)\n",
    "print('prob positive review 3: ',posprob/100,': ~','%.3f'%posprob, '%')\n",
    "print('prob negative review 3: ',negprob/100,': ~','%.3f'%negprob, '%')\n",
    "\n"
   ]
  },
  {
   "cell_type": "markdown",
   "metadata": {},
   "source": [
    "# QUESTION 9 (EXPECTED) 1 point \n",
    "\n",
    "\n",
    "Calculate the classification accuracy and confusion matrix that you would obtain using the whole data set for both training and testing. Do not use machine learning libraries like scikit-learn or tensorflow for this only the basic numpy/scipy stuff.\n",
    "\n",
    "\n"
   ]
  },
  {
   "cell_type": "code",
   "execution_count": 173,
   "metadata": {},
   "outputs": [
    {
     "name": "stdout",
     "output_type": "stream",
     "text": [
      "classification accuracy: 0.5125\n",
      "[[227, 773], [798, 202]]\n"
     ]
    }
   ],
   "source": [
    "# YOUR CODE GOES HERE \n",
    "\n",
    "\n",
    "\n",
    "#classification accuracy and confusion matrix that you would obtain \n",
    "#using the whole dataset for both training and testing \n",
    "\n",
    "#classification accuracy:\n",
    "\n",
    "\n",
    "def predict_set():\n",
    "     \n",
    "    A = [[0,0],\n",
    "        [0,0]]             \n",
    "    \n",
    "    word_probs_pos = [0.019,0.255,0.048,0.023,0.120,0.095,0.408,0.125]\n",
    "    word_probs_neg = [0.101,0.505,0.169,0.091,0.046,0.053,0.286,0.005]\n",
    "    \n",
    "    \n",
    "#accuracy of positive probabilities \n",
    "                \n",
    "    for s, d, files in os.walk('/home/jovyan/assignment-3/txt_sentoken/pos'):\n",
    "        for file in files:\n",
    "            with open(s + os.sep + file) as f:\n",
    "\n",
    "                pos = likelihood(f.read().lower(),word_probs_pos)\n",
    "\n",
    "                \n",
    "                neg = likelihood(f.read().lower(),word_probs_neg)\n",
    "                posprob = (pos/(pos+neg)*100)\n",
    "                negprob = (neg/(pos+neg)*100)\n",
    "\n",
    "                if posprob > negprob:     \n",
    "                    A[0][0] += 1        #true positive  (it's in positive and its a good review)\n",
    "                else:\n",
    "                    A[0][1] += 1         # false positive  (it's in positive but its a bad review )\n",
    "\n",
    "    \n",
    "    for s, d, files in os.walk('/home/jovyan/assignment-3/txt_sentoken/neg'):\n",
    "        for file in files:\n",
    "            with open(s + os.sep + file) as f:\n",
    "                \n",
    "                pos = likelihood(f.read().lower(),word_probs_pos)\n",
    "                neg = likelihood(f.read().lower(),word_probs_neg)\n",
    "                posprob = (pos/(pos+neg)*100)\n",
    "                negprob = (neg/(pos+neg)*100)\n",
    "\n",
    "                if negprob > posprob:\n",
    "                    A[1][0] += 1       # true negative   (it's in negative and its a bad review )\n",
    "                else:\n",
    "                    A[1][1] += 1       #false negative (it's in negative but its good review )\n",
    "                \n",
    "    accuracy = (A[0][0] + A[1][0]) / (A[0][0] +A[0][1] +A[1][0] +A[1][1])    \n",
    "    return accuracy, A\n",
    "\n",
    "accuracy, A = predict_set()\n",
    "print('classification accuracy:', accuracy) \n",
    "print(A)\n",
    "\n"
   ]
  },
  {
   "cell_type": "markdown",
   "metadata": {},
   "source": [
    "# QUESTION 10 (ADVANCED) 1 point \n",
    "\n",
    "One can consider the Naive Bayes classifier a generative model that can generate binary feature vectors using the associated probabilities from the training data. The idea is similar to how we do direct sampling in Bayesian Networks and depends on generating random number from a discrete distribution. Describe how you would generate random movie reviews consisting solely of the words from the dictionary using your model. Show 5 examples of randomly generated positive reviews and 5 examples of randomly generated negative reviews. Each example should consists of a subset of the words in the dictionary. Hint: use probabilities to generate both the presence and absence of a word. \n"
   ]
  },
  {
   "cell_type": "markdown",
   "metadata": {},
   "source": [
    "# Extra ideas (no credit) \n",
    "\n",
    "* Check the associated README file and see what convention is used for the 10-fold cross-validation. Calculate the classification accuracy and confusion matrix using the recommended 10-fold cross-validation. Again do NOT use \n",
    "ML libraries such as scikit-learn or tensorflow and just use numpy/scipy. \n",
    "* Implement the all the question using a ML library such as scikit-learn or tensorflow and a Naive Bayes Bernoulli classifier. \n"
   ]
  },
  {
   "cell_type": "code",
   "execution_count": null,
   "metadata": {},
   "outputs": [],
   "source": []
  },
  {
   "cell_type": "code",
   "execution_count": null,
   "metadata": {},
   "outputs": [],
   "source": []
  }
 ],
 "metadata": {
  "kernelspec": {
   "display_name": "Python 3",
   "language": "python",
   "name": "python3"
  },
  "language_info": {
   "codemirror_mode": {
    "name": "ipython",
    "version": 3
   },
   "file_extension": ".py",
   "mimetype": "text/x-python",
   "name": "python",
   "nbconvert_exporter": "python",
   "pygments_lexer": "ipython3",
   "version": "3.9.2"
  }
 },
 "nbformat": 4,
 "nbformat_minor": 4
}
